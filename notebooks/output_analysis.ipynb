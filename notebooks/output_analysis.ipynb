{
    "cells": [
        {
            "cell_type": "markdown",
            "id": "968580e9",
            "metadata": {},
            "source": [
                "# Global Settings and Imports"
            ]
        },
        {
            "cell_type": "code",
            "execution_count": null,
            "id": "da0e0929",
            "metadata": {},
            "outputs": [],
            "source": [
                "%reload_ext autoreload\n",
                "%autoreload 2\n",
                "\n",
                "import os\n",
                "import sys\n",
                "\n",
                "sys.path.insert(0, '..')\n",
                "\n",
                "import seq_rec.utils.custom_logging"
            ]
        },
        {
            "cell_type": "code",
            "execution_count": null,
            "id": "20e770c7-bc90-473a-8464-6169ef30427c",
            "metadata": {},
            "outputs": [],
            "source": [
                "from typing import Dict, Text\n",
                "\n",
                "import numpy as np\n",
                "import pandas as pd\n",
                "import tensorflow as tf\n",
                "import tensorflow_recommenders as tfrs\n",
                "\n",
                "%load_ext tensorboard\n",
                "from tensorboard.plugins import projector"
            ]
        },
        {
            "cell_type": "code",
            "execution_count": null,
            "id": "bcf8fa29",
            "metadata": {},
            "outputs": [],
            "source": [
                "import seq_rec.io as io\n",
                "import seq_rec.utils as utils\n",
                "from seq_rec.models.deeprec.ann_helper import ANNHelper"
            ]
        },
        {
            "cell_type": "markdown",
            "id": "9b6adf89",
            "metadata": {},
            "source": [
                "# Parameters"
            ]
        },
        {
            "cell_type": "code",
            "execution_count": null,
            "id": "1b42f670",
            "metadata": {},
            "outputs": [],
            "source": [
                "RANDOM_SEED = 13\n",
                "\n",
                "HYDRA_CONFIG_PATH = '../seq_rec/conf/'"
            ]
        },
        {
            "cell_type": "markdown",
            "id": "b5f53a04",
            "metadata": {},
            "source": [
                "# Config object"
            ]
        },
        {
            "cell_type": "code",
            "execution_count": null,
            "id": "8e1b2c18",
            "metadata": {},
            "outputs": [],
            "source": [
                "cfg = utils.load_cfg(HYDRA_CONFIG_PATH)"
            ]
        },
        {
            "cell_type": "markdown",
            "id": "ba7bed1f-b25d-40b8-902a-10ac4eb608a7",
            "metadata": {},
            "source": [
                "# Download data"
            ]
        },
        {
            "cell_type": "code",
            "execution_count": null,
            "id": "a761106d",
            "metadata": {},
            "outputs": [],
            "source": [
                "test_ds = io.load_training_data(cfg.env.io.training, part='test', random_seed=RANDOM_SEED, download=True)"
            ]
        },
        {
            "cell_type": "code",
            "execution_count": null,
            "id": "0031835c",
            "metadata": {},
            "outputs": [],
            "source": [
                "test_prep_ds = io.prep_training_data(test_ds, cfg.input_prep)"
            ]
        },
        {
            "cell_type": "markdown",
            "id": "c6bd5ee3-dd5f-4624-b3f4-44228c6f536f",
            "metadata": {},
            "source": [
                "## Load model"
            ]
        },
        {
            "cell_type": "markdown",
            "id": "0e84155d-5fb0-41ab-8d09-6d28152e38fe",
            "metadata": {},
            "source": [
                "### Download model from GCS"
            ]
        },
        {
            "cell_type": "code",
            "execution_count": null,
            "id": "dd0a6947-5be5-4ffe-9f43-969d67728b6d",
            "metadata": {},
            "outputs": [],
            "source": [
                "SAVED_MODEL_PATH = 'models/seq-rec-model-v020'\n",
                "os.environ['SAVED_MODEL_PATH'] = SAVED_MODEL_PATH"
            ]
        },
        {
            "cell_type": "raw",
            "id": "6e62c221-dbdb-4bad-867e-71a58fb506b0",
            "metadata": {},
            "source": [
                "%%bash\n",
                "export BUCKET_NAME=\"recsys-pipeline\"\n",
                "export BUCKET_FOLDER_DIR=\"seq-rec/seq-rec-model-v0\"\n",
                "\n",
                "mkdir -p ./${SAVED_MODEL_PATH}\n",
                "gsutil -m cp -r gs://${BUCKET_NAME}/${BUCKET_FOLDER_DIR}/* ./${SAVED_MODEL_PATH}\n",
                "ls ./${SAVED_MODEL_PATH}"
            ]
        },
        {
            "cell_type": "raw",
            "id": "9068e434-3eda-4153-92ed-a09bf5535e35",
            "metadata": {},
            "source": [
                "!ls $SAVED_MODEL_PATH"
            ]
        },
        {
            "cell_type": "code",
            "execution_count": null,
            "id": "dc7173ed-7636-457d-bd93-0654f8b91128",
            "metadata": {},
            "outputs": [],
            "source": [
                "loaded = tf.saved_model.load(SAVED_MODEL_PATH)"
            ]
        },
        {
            "cell_type": "markdown",
            "id": "8c45434c-68c5-4ce1-87e5-511a54463be3",
            "metadata": {},
            "source": [
                "# Make predictions"
            ]
        },
        {
            "cell_type": "code",
            "execution_count": null,
            "id": "05f4ce4e",
            "metadata": {},
            "outputs": [],
            "source": [
                "input_serving = ANNHelper.prepare_batch_input(test_prep_ds)\n",
                "serving_fn = loaded.signatures['k_10']"
            ]
        },
        {
            "cell_type": "code",
            "execution_count": null,
            "id": "c6ff0291",
            "metadata": {},
            "outputs": [],
            "source": [
                "recommendations = serving_fn(**input_serving)"
            ]
        },
        {
            "cell_type": "code",
            "execution_count": null,
            "id": "1b07bef4",
            "metadata": {},
            "outputs": [],
            "source": [
                "labels = list(test_prep_ds.map(lambda x: x['target_merchant_id']).as_numpy_iterator())"
            ]
        },
        {
            "cell_type": "markdown",
            "id": "58e1bfad-a5f9-440b-8deb-7dc2d602f558",
            "metadata": {},
            "source": [
                "## Collect predictions into a dataframe"
            ]
        },
        {
            "cell_type": "code",
            "execution_count": null,
            "id": "6bdd08b2-8735-4cb0-9149-76882e2d8117",
            "metadata": {},
            "outputs": [],
            "source": [
                "eval_df = pd.DataFrame(\n",
                "    data=dict(\n",
                "        target=labels,\n",
                "        predictions=recommendations['merchant_id'].numpy().tolist(),\n",
                "        score=recommendations['scores'].numpy().tolist(),\n",
                "        input_eval_context_merchants=list(test_prep_ds.map(lambda x: x['context_merchants']).as_numpy_iterator()),\n",
                "        input_eval_context_search_terms=list(test_prep_ds.map(lambda x: x['context_search_terms']).as_numpy_iterator()),\n",
                "        input_eval_recent_txn_merchants=list(test_prep_ds.map(lambda x: x['recent_txn_merchants']).as_numpy_iterator()),\n",
                "        input_eval_context_merchants_time_recency=list(test_prep_ds.map(lambda x: x['context_merchants_time_recency']).as_numpy_iterator()),\n",
                "        input_eval_context_search_terms_time_recency=list(test_prep_ds.map(lambda x: x['context_search_terms_time_recency']).as_numpy_iterator()),\n",
                "        input_eval_recent_txn_time_recency=list(test_prep_ds.map(lambda x: x['recent_txn_time_recency']).as_numpy_iterator()),\n",
                "        input_eval_cnt_not_null_context_search_term=list(test_prep_ds.map(lambda x: x['cnt_not_null_context_search_term']).as_numpy_iterator()),\n",
                "        input_eval_cnt_not_null_context_merchant=list(test_prep_ds.map(lambda x: x['cnt_not_null_context_merchant']).as_numpy_iterator()),\n",
                "        input_eval_cnt_not_null_recent_txn=list(test_prep_ds.map(lambda x: x['cnt_not_null_recent_txn']).as_numpy_iterator()),\n",
                "    )\n",
                ")\n",
                "eval_df"
            ]
        },
        {
            "cell_type": "code",
            "execution_count": null,
            "id": "017f57a4-b16f-49e7-9d5b-52612d7f19a2",
            "metadata": {},
            "outputs": [],
            "source": [
                "_not_a_list_cols = ['input_eval_cnt_not_null_context_search_term', 'input_eval_cnt_not_null_context_merchant', 'input_eval_cnt_not_null_recent_txn']\n",
                "cols_to_explode = list(set(eval_df.columns) - set(['target']) - set(_not_a_list_cols))\n",
                "eval_df_explode = eval_df.explode(cols_to_explode).reset_index()\n",
                "eval_df_explode['match'] = eval_df_explode['target'] == eval_df_explode['predictions']\n",
                "eval_df_explode['hit'] = eval_df_explode.groupby('index')['match'].transform('sum')"
            ]
        },
        {
            "cell_type": "code",
            "execution_count": null,
            "id": "ac205880-8e90-406d-9227-12738989a34e",
            "metadata": {},
            "outputs": [],
            "source": [
                "eval_df_explode"
            ]
        },
        {
            "cell_type": "code",
            "execution_count": null,
            "id": "5a120405-f7c1-4773-b377-c23001e01512",
            "metadata": {},
            "outputs": [],
            "source": [
                "hit_instances = eval_df_explode.groupby('index')['match'].sum().loc[lambda s: s.eq(1)].index\n",
                "nonhit_instances = eval_df_explode.groupby('index')['match'].sum().loc[lambda s: s.eq(0)].index"
            ]
        },
        {
            "cell_type": "markdown",
            "id": "bc506c63-d5c9-41da-bdfd-3fd5f46499a2",
            "metadata": {},
            "source": [
                "#### Sample nonhit to inspect"
            ]
        },
        {
            "cell_type": "code",
            "execution_count": null,
            "id": "435c9578-ca2f-4430-8198-02401b3e9fd8",
            "metadata": {},
            "outputs": [],
            "source": [
                "samples = np.random.choice(nonhit_instances, size=5)\n",
                "\n",
                "eval_df_explode.loc[lambda df: df['index'].isin(samples)]"
            ]
        },
        {
            "cell_type": "markdown",
            "id": "f418c63e-0806-4766-8610-6e87deb0e36d",
            "metadata": {},
            "source": [
                "# Analyze"
            ]
        },
        {
            "cell_type": "markdown",
            "id": "85bd3375-146f-4ca3-86f9-d7f57c2f6f61",
            "metadata": {},
            "source": [
                "## Agg by instance"
            ]
        },
        {
            "cell_type": "code",
            "execution_count": null,
            "id": "4cc44b40-21db-4954-8043-0575ef6d67a3",
            "metadata": {},
            "outputs": [],
            "source": [
                "eval_df_analyze = eval_df_explode.assign(\n",
                "    input_eval_context_merchants=lambda df: df['input_eval_context_merchants'].apply(lambda s: s.decode('utf-8')).replace('NULL', np.nan),\n",
                "    input_eval_context_search_terms=lambda df: df['input_eval_context_search_terms'].apply(lambda s: s.decode('utf-8')).replace('NULL', np.nan),\n",
                "    input_eval_recent_txn_merchants=lambda df: df['input_eval_recent_txn_merchants'].apply(lambda s: s.decode('utf-8')).replace('NULL', np.nan),\n",
                "    input_eval_context_merchants_time_recency=lambda df: df['input_eval_context_merchants_time_recency'].apply(lambda s: s.decode('utf-8')).astype(float).replace(0, np.nan),\n",
                "    input_eval_context_search_terms_time_recency=lambda df: df['input_eval_context_search_terms_time_recency'].apply(lambda s: s.decode('utf-8')).astype(float).replace(0, np.nan),\n",
                "    input_eval_recent_txn_time_recency=lambda df: df['input_eval_recent_txn_time_recency'].apply(lambda s: s.decode('utf-8')).astype(float).replace(0, np.nan),\n",
                ")\n",
                "eval_df_analyze = eval_df_analyze.assign(\n",
                "    cnt_context_search_term_cross_cnt_merchant_cross_cnt_txn=lambda df: df['input_eval_cnt_not_null_context_search_term'].astype(str) + \"search\" + \"_\" + df['input_eval_cnt_not_null_context_merchant'].astype(str) + \"merchant\" + \"_\" + df['input_eval_cnt_not_null_recent_txn'].astype(str) + \"txn\"\n",
                ")\n",
                "eval_df_analyze"
            ]
        },
        {
            "cell_type": "code",
            "execution_count": null,
            "id": "c215c7a7-d004-4ffb-aa9a-4277848559ea",
            "metadata": {},
            "outputs": [],
            "source": [
                "eval_df_analyze_agg_by_prediction = eval_df_analyze.groupby('index').agg({\n",
                "    'target': ['first'],\n",
                "    'score': ['mean', 'max', 'min'],\n",
                "    'input_eval_context_merchants': ['nunique'],\n",
                "    'input_eval_context_search_terms': ['nunique'],\n",
                "    'input_eval_recent_txn_merchants': ['nunique'],\n",
                "    'input_eval_context_merchants_time_recency': ['mean', 'max', 'min'],\n",
                "    'input_eval_context_search_terms_time_recency': ['mean', 'max', 'min'],\n",
                "    'input_eval_recent_txn_time_recency': ['mean', 'max', 'min'],\n",
                "    'input_eval_cnt_not_null_context_search_term': ['first'],\n",
                "    'input_eval_cnt_not_null_context_merchant': ['first'],\n",
                "    'input_eval_cnt_not_null_recent_txn': ['first'],\n",
                "    'cnt_context_search_term_cross_cnt_merchant_cross_cnt_txn': ['first'],\n",
                "    'hit': ['max']\n",
                "})\n",
                "eval_df_analyze_agg_by_prediction.columns = ['__'.join(x) for x in eval_df_analyze_agg_by_prediction.columns]\n",
                "eval_df_analyze_agg_by_prediction = eval_df_analyze_agg_by_prediction.assign(\n",
                "    no_context=lambda df: (df['input_eval_context_merchants__nunique'].eq(0) & df['input_eval_context_search_terms__nunique'].eq(0)).astype(int),\n",
                "    no_recent_txn=lambda df: (df['input_eval_recent_txn_merchants__nunique'].eq(0)).astype(int),\n",
                "    only_txn=lambda df: (df['no_context'].eq(1) & df['no_recent_txn'].eq(0)).astype(int),\n",
                "    only_context=lambda df: (df['no_context'].eq(0) & df['no_recent_txn'].eq(1)).astype(int),\n",
                ")"
            ]
        },
        {
            "cell_type": "markdown",
            "id": "8c1d2716-56ab-4081-820a-6ef100ca5d36",
            "metadata": {},
            "source": [
                "## Compare the data"
            ]
        },
        {
            "cell_type": "code",
            "execution_count": null,
            "id": "1cbfe795-3a81-4267-b502-a0818415421e",
            "metadata": {},
            "outputs": [],
            "source": [
                "!pip install sweetviz"
            ]
        },
        {
            "cell_type": "code",
            "execution_count": null,
            "id": "b55b7c4a-9a1a-478c-bca9-8351de037ee1",
            "metadata": {},
            "outputs": [],
            "source": [
                "import sweetviz as sv"
            ]
        },
        {
            "cell_type": "code",
            "execution_count": null,
            "id": "9e7a4546-b5d2-471d-9c86-98e2b573310d",
            "metadata": {},
            "outputs": [],
            "source": [
                "hit_df = eval_df_analyze_agg_by_prediction.loc[lambda df: df['hit__max'].eq(1)]\n",
                "nonhit_df = eval_df_analyze_agg_by_prediction.loc[lambda df: df['hit__max'].eq(0)]"
            ]
        },
        {
            "cell_type": "code",
            "execution_count": null,
            "id": "0d7d9a08-08b6-40ef-9b00-d63cc1c397a5",
            "metadata": {},
            "outputs": [],
            "source": [
                "hit_compare_report = sv.compare([hit_df, 'Hit Data'], [nonhit_df, 'Non-Hit Data'])"
            ]
        },
        {
            "cell_type": "code",
            "execution_count": null,
            "id": "a4b43a69-df28-41da-abc3-aef5ca65098d",
            "metadata": {},
            "outputs": [],
            "source": [
                "hit_compare_report.show_notebook()"
            ]
        },
        {
            "cell_type": "markdown",
            "id": "0f4c7719-9842-4fe0-9ae5-1f2e078a628a",
            "metadata": {},
            "source": [
                "#### Target merchant"
            ]
        },
        {
            "cell_type": "code",
            "execution_count": null,
            "id": "dc96691d-300e-4e3f-a715-15ae3fc9a4a5",
            "metadata": {},
            "outputs": [],
            "source": [
                "target_compare_df = eval_df_analyze_agg_by_prediction.groupby('target__first').agg({\n",
                "    'hit__max': ['sum', 'count'],\n",
                "    'input_eval_cnt_not_null_context_search_term__first': ['mean'],\n",
                "    'input_eval_cnt_not_null_context_merchant__first': ['mean'],\n",
                "    'input_eval_cnt_not_null_recent_txn__first': ['mean']\n",
                "})\n",
                "target_compare_df.columns = ['__'.join(x) for x in target_compare_df.columns]\n",
                "target_compare_df = target_compare_df.assign(\n",
                "    hit_rate=lambda df: df['hit__max__sum'] / df['hit__max__count']\n",
                ")"
            ]
        },
        {
            "cell_type": "code",
            "execution_count": null,
            "id": "c0119c05-ce08-4c22-b251-573d1949d7a3",
            "metadata": {},
            "outputs": [],
            "source": [
                "print('Lowest hit-rate target merchants')\n",
                "target_compare_df.loc[lambda df: df['hit__max__count'].ge(10)].sort_values(['hit_rate', 'hit__max__count'], ascending=[True, False]).head(10)"
            ]
        },
        {
            "cell_type": "code",
            "execution_count": null,
            "id": "433b3a4a-be67-4418-b535-06b098fb4c23",
            "metadata": {},
            "outputs": [],
            "source": [
                "print('Highest hit-rate target merchants')\n",
                "target_compare_df.loc[lambda df: df['hit__max__count'].ge(10)].sort_values(['hit_rate', 'hit__max__count'], ascending=[False, False]).head(10)"
            ]
        },
        {
            "cell_type": "markdown",
            "id": "152249fd-a22d-4ec5-bac7-27e604e9be31",
            "metadata": {},
            "source": [
                "#### W.r.t. number of context search terms"
            ]
        },
        {
            "cell_type": "code",
            "execution_count": null,
            "id": "3945242d-eddb-4c29-b0c1-8c996c65f363",
            "metadata": {},
            "outputs": [],
            "source": [
                "print(\"Percentage of hit by number of context search terms\")\n",
                "eval_df_analyze_agg_by_prediction.groupby('input_eval_cnt_not_null_context_search_term__first')['hit__max'].agg(['mean', 'count'])"
            ]
        },
        {
            "cell_type": "code",
            "execution_count": null,
            "id": "7e9c777f-f2f9-4da0-826d-d1c83e87b1d1",
            "metadata": {},
            "outputs": [],
            "source": [
                "print(\"Percentage of hit by number of context merchants\")\n",
                "eval_df_analyze_agg_by_prediction.groupby('input_eval_cnt_not_null_context_merchant__first')['hit__max'].agg(['mean', 'count'])"
            ]
        },
        {
            "cell_type": "code",
            "execution_count": null,
            "id": "615e8ca8-8acd-40dc-ad83-b49c947bb863",
            "metadata": {},
            "outputs": [],
            "source": [
                "print(\"Percentage of hit by number of recent txn\")\n",
                "eval_df_analyze_agg_by_prediction.groupby('input_eval_cnt_not_null_recent_txn__first')['hit__max'].agg(['mean', 'count'])"
            ]
        },
        {
            "cell_type": "code",
            "execution_count": null,
            "id": "8a61ecb8-3abd-4e77-b4c1-a11ac5f3a810",
            "metadata": {},
            "outputs": [],
            "source": [
                "print(\"Percentage of hit by number of context search terms cross number of context merchants cross number of recent txn order by hit rate (mean)\")\n",
                "(\n",
                "    eval_df_analyze_agg_by_prediction\n",
                "    .groupby('cnt_context_search_term_cross_cnt_merchant_cross_cnt_txn__first')\n",
                "    ['hit__max'].agg(['mean', 'count'])\n",
                "    .loc[lambda df: df['count'].gt(30)]\n",
                "    .sort_values(['mean'], ascending=[False])\n",
                ")"
            ]
        },
        {
            "cell_type": "code",
            "execution_count": null,
            "id": "1eeabe13-4cba-4c98-9ff7-a0b8ab3576e4",
            "metadata": {},
            "outputs": [],
            "source": [
                "print(\"Percentage of hit by number of context search terms cross number of context merchants cross number of recent txn order by frequency (count)\")\n",
                "(\n",
                "    eval_df_analyze_agg_by_prediction\n",
                "    .groupby('cnt_context_search_term_cross_cnt_merchant_cross_cnt_txn__first')\n",
                "    ['hit__max'].agg(['mean', 'count'])\n",
                "    .loc[lambda df: df['count'].gt(30)]\n",
                "    .sort_values(['count'], ascending=[False])\n",
                ")"
            ]
        },
        {
            "cell_type": "code",
            "execution_count": null,
            "id": "537b1192-0517-43ed-803b-08757c764841",
            "metadata": {},
            "outputs": [],
            "source": [
                "print(\"Percentage of hit by whether containing only recent txn\")\n",
                "(\n",
                "    eval_df_analyze_agg_by_prediction\n",
                "    .groupby('only_txn')\n",
                "    ['hit__max'].agg(['mean', 'count'])\n",
                ")"
            ]
        },
        {
            "cell_type": "code",
            "execution_count": null,
            "id": "1944c408-e892-4db0-badc-63279aa4ee15",
            "metadata": {},
            "outputs": [],
            "source": [
                "print(\"Percentage of hit by whether containing any context\")\n",
                "(\n",
                "    eval_df_analyze_agg_by_prediction\n",
                "    .groupby('no_context')\n",
                "    ['hit__max'].agg(['mean', 'count'])\n",
                ")"
            ]
        },
        {
            "cell_type": "code",
            "execution_count": null,
            "id": "703e2fc8-d50c-4d28-9391-8a12df468f55",
            "metadata": {},
            "outputs": [],
            "source": [
                "print(\"Percentage of hit by whether containing only context\")\n",
                "(\n",
                "    eval_df_analyze_agg_by_prediction\n",
                "    .groupby('only_context')\n",
                "    ['hit__max'].agg(['mean', 'count'])\n",
                ")"
            ]
        },
        {
            "cell_type": "code",
            "execution_count": null,
            "id": "faf9a84d-6729-4b4e-b90c-131fda897807",
            "metadata": {},
            "outputs": [],
            "source": [
                "print(\"Percentage of hit by number of context search terms cross number of context merchants cross merchant click recency order by hit rate (mean)\")\n",
                "(\n",
                "    eval_df_analyze_agg_by_prediction\n",
                "    .groupby(['cnt_context_search_term_cross_cnt_merchant__first', 'input_eval_context_merchants_time_recency__min'])\n",
                "    ['hit__max'].agg(['mean', 'count'])\n",
                "    .loc[lambda df: df['count'].gt(30)]\n",
                "    .sort_values(['mean'], ascending=[False])\n",
                ")"
            ]
        },
        {
            "cell_type": "markdown",
            "id": "b9ef7e7a-2dad-4a8c-b655-2d7a69735eae",
            "metadata": {},
            "source": [
                "# Embeddings analysis"
            ]
        },
        {
            "cell_type": "code",
            "execution_count": null,
            "id": "f0a57d91-26fa-427d-a7f4-c91f0193b022",
            "metadata": {},
            "outputs": [],
            "source": [
                "log_dir = 'logs/embeddings/merchants/'"
            ]
        },
        {
            "cell_type": "code",
            "execution_count": null,
            "id": "b6825555-7d61-4138-974c-1cdd067e06d0",
            "metadata": {},
            "outputs": [],
            "source": [
                "# Set up config.\n",
                "config = projector.ProjectorConfig()\n",
                "embedding = config.embeddings.add()\n",
                "# The name of the tensor will be suffixed by `/.ATTRIBUTES/VARIABLE_VALUE`.\n",
                "embedding.tensor_name = \"embedding/.ATTRIBUTES/VARIABLE_VALUE\"\n",
                "embedding.metadata_path = 'metadata.tsv'\n",
                "projector.visualize_embeddings(log_dir, config)"
            ]
        },
        {
            "cell_type": "code",
            "execution_count": null,
            "id": "75ad9dab-749c-427b-a0b6-b693bcc78629",
            "metadata": {},
            "outputs": [],
            "source": [
                "%tensorboard --logdir /home/jupyter/seq-rec/notebooks/logs/embeddings/merchants/"
            ]
        },
        {
            "cell_type": "markdown",
            "id": "6cf9cdba-0ad0-4066-b414-7b7f4e3ea230",
            "metadata": {},
            "source": [
                "# Archive "
            ]
        },
        {
            "cell_type": "code",
            "execution_count": null,
            "id": "35d299e6-a174-4d03-adcc-cffa6c57ea82",
            "metadata": {},
            "outputs": [],
            "source": [
                "target_compare_df = pd.concat([\n",
                "    hit_df['target__first'].value_counts(normalize=True).to_frame('perc_hit'),\n",
                "    nonhit_df['target__first'].value_counts(normalize=True).to_frame('perc_nonhit')\n",
                "], axis=1)\n",
                "target_compare_df = target_compare_df.assign(\n",
                "    diff_hit_minus_nonhit=lambda df: df['perc_hit'] - df['perc_nonhit']\n",
                ").dropna().sort_values(['diff_hit_minus_nonhit'])"
            ]
        },
        {
            "cell_type": "code",
            "execution_count": null,
            "id": "7d1862f0-c815-409d-9ee3-a4e1d9e83b82",
            "metadata": {},
            "outputs": [],
            "source": [
                "hit_analysis_report.show_notebook()"
            ]
        },
        {
            "cell_type": "code",
            "execution_count": null,
            "id": "838bcff3-f767-4fa3-802b-caf2f73d1e3c",
            "metadata": {},
            "outputs": [],
            "source": [
                "target_compare_df.head(10)"
            ]
        },
        {
            "cell_type": "code",
            "execution_count": null,
            "id": "c5131a2a-7806-4c71-bc27-9499b1da9984",
            "metadata": {},
            "outputs": [],
            "source": []
        },
        {
            "cell_type": "code",
            "execution_count": null,
            "id": "65540a60-4463-4a93-bc18-dc546957555b",
            "metadata": {},
            "outputs": [],
            "source": [
                "target_compare_df.tail(10)"
            ]
        },
        {
            "cell_type": "code",
            "execution_count": null,
            "id": "66b7fdf8-a27a-49d5-918d-52e39bf79237",
            "metadata": {},
            "outputs": [],
            "source": []
        }
    ],
    "metadata": {
        "kernelspec": {
            "display_name": "Python 3.8.14 ('.venv': poetry)",
            "language": "python",
            "name": "python3"
        },
        "language_info": {
            "codemirror_mode": {
                "name": "ipython",
                "version": 3
            },
            "file_extension": ".py",
            "mimetype": "text/x-python",
            "name": "python",
            "nbconvert_exporter": "python",
            "pygments_lexer": "ipython3",
            "version": "3.8.14"
        },
        "vscode": {
            "interpreter": {
                "hash": "eaeefced7af4788b9b4a203895b09193a6dd449d207d1b1237ec1e0a47ffeed0"
            }
        }
    },
    "nbformat": 4,
    "nbformat_minor": 5
}

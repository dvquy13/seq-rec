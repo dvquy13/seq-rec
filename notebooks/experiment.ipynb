{
    "cells": [
        {
            "cell_type": "markdown",
            "id": "7aada0f9-1131-4486-8b24-f87cdd2d83bd",
            "metadata": {},
            "source": [
                "# Global Settings and Imports"
            ]
        },
        {
            "cell_type": "code",
            "execution_count": null,
            "id": "56c191b7",
            "metadata": {},
            "outputs": [],
            "source": [
                "%reload_ext autoreload\n",
                "%autoreload 2"
            ]
        },
        {
            "cell_type": "code",
            "execution_count": null,
            "id": "132ce6f4",
            "metadata": {},
            "outputs": [],
            "source": [
                "import os\n",
                "import sys\n",
                "\n",
                "sys.path.insert(0, '..')\n",
                "\n",
                "import seq_rec.utils.custom_logging"
            ]
        },
        {
            "cell_type": "code",
            "execution_count": null,
            "id": "ddde652f-f3e4-4d92-9b8a-320ff3115b10",
            "metadata": {},
            "outputs": [],
            "source": [
                "# from seq_rec.experiment_tracker import CometExperiment as Experiment\n",
                "from seq_rec.experiment_tracker import MockExperiment as Experiment\n",
                "experiment = Experiment(\n",
                "    auto_metric_logging=True,\n",
                "    auto_param_logging=False,\n",
                "    auto_histogram_weight_logging=True,\n",
                "    auto_histogram_gradient_logging=True,\n",
                "    auto_histogram_activation_logging=True,\n",
                "    auto_histogram_tensorboard_logging=True\n",
                ")"
            ]
        },
        {
            "cell_type": "code",
            "execution_count": null,
            "id": "2b4be71d-e645-486b-8d27-6c6396b29cb7",
            "metadata": {},
            "outputs": [],
            "source": [
                "import seq_rec.io as io\n",
                "import seq_rec.utils as utils\n",
                "from seq_rec.models.deeprec.tfrs_gru import TFRSGRUModel as Model"
            ]
        },
        {
            "cell_type": "markdown",
            "id": "e36a44e2-a893-4a67-b0c4-06eca9940e87",
            "metadata": {},
            "source": [
                "## Parameters"
            ]
        },
        {
            "cell_type": "code",
            "execution_count": null,
            "id": "236c3ea1-2070-49eb-9f06-443715704428",
            "metadata": {},
            "outputs": [],
            "source": [
                "RANDOM_SEED = 13  # Set None for non-deterministic result\n",
                "\n",
                "HYDRA_CONFIG_PATH = '../seq_rec/conf/'\n",
                "COUNTRY_CODE = 'SG'"
            ]
        },
        {
            "cell_type": "markdown",
            "id": "2f6f4160",
            "metadata": {},
            "source": [
                "# Config object"
            ]
        },
        {
            "cell_type": "code",
            "execution_count": null,
            "id": "947e0313",
            "metadata": {},
            "outputs": [],
            "source": [
                "cfg = utils.load_cfg(\n",
                "    HYDRA_CONFIG_PATH,\n",
                "    overrides=[\n",
                "        f\"env.io.training.applied_country_code=['{COUNTRY_CODE}']\"\n",
                "    ]\n",
                ")"
            ]
        },
        {
            "cell_type": "markdown",
            "id": "073be917-f49d-4b9b-b199-179e15a932f5",
            "metadata": {},
            "source": [
                "## Load the input data"
            ]
        },
        {
            "cell_type": "code",
            "execution_count": null,
            "id": "7633eb90-a25f-4e81-8136-25df39c2db1d",
            "metadata": {},
            "outputs": [],
            "source": [
                "training_ds = io.load_training_data(cfg.env.io.training, part='train', random_seed=RANDOM_SEED, download=True)\n",
                "val_ds = io.load_training_data(cfg.env.io.training, part='validation', random_seed=RANDOM_SEED)\n",
                "test_ds = io.load_training_data(cfg.env.io.training, part='test', random_seed=RANDOM_SEED)"
            ]
        },
        {
            "cell_type": "markdown",
            "id": "6f1114f2",
            "metadata": {},
            "source": [
                "# Prep the input data"
            ]
        },
        {
            "cell_type": "code",
            "execution_count": null,
            "id": "8dde5b14",
            "metadata": {},
            "outputs": [],
            "source": [
                "training_prep_ds = io.prep_training_data(training_ds, cfg.input_prep)\n",
                "val_prep_ds = io.prep_training_data(val_ds, cfg.input_prep)\n",
                "test_prep_ds = io.prep_training_data(test_ds, cfg.input_prep)"
            ]
        },
        {
            "cell_type": "code",
            "execution_count": null,
            "id": "d7246bf0-6fb1-4769-8e30-5a0bb732181d",
            "metadata": {},
            "outputs": [],
            "source": [
                "merchant_vocab = io.get_vocab(training_ds, 'merchant_id')\n",
                "search_vocab = io.get_vocab(training_prep_ds, 'context_search_terms')"
            ]
        },
        {
            "cell_type": "markdown",
            "id": "3282a4d6-6cc2-4e18-bfa7-275b1a69dfe0",
            "metadata": {
                "tags": []
            },
            "source": [
                "# Prepare hyper-parameters"
            ]
        },
        {
            "cell_type": "code",
            "execution_count": null,
            "id": "ef143153-0297-45b3-b76f-edabfac287f5",
            "metadata": {},
            "outputs": [],
            "source": [
                "model_hparams_folder = '../seq_rec/models/deeprec/conf'\n",
                "model_codename = 'tfrs_gru'\n",
                "model_version = \"v01\""
            ]
        },
        {
            "cell_type": "code",
            "execution_count": null,
            "id": "cb701d38-a9e9-476d-8124-0722d82f988a",
            "metadata": {},
            "outputs": [],
            "source": [
                "model_hparams = {\n",
                "    **utils.load_cfg(\n",
                "        model_hparams_folder,\n",
                "        overrides=[\n",
                "            f\"tfrs_gru={model_version}\",\n",
                "            # \"tfrs_gru.epochs=1\"\n",
                "        ]\n",
                "    )[model_codename],\n",
                "    \"merchant_vocab\": merchant_vocab,\n",
                "    \"search_vocab\": search_vocab,\n",
                "    \"random_seed\": RANDOM_SEED,\n",
                "    \"country_code\": COUNTRY_CODE\n",
                "}"
            ]
        },
        {
            "cell_type": "code",
            "execution_count": null,
            "id": "3e3bec00",
            "metadata": {},
            "outputs": [],
            "source": [
                "print(model_hparams)"
            ]
        },
        {
            "cell_type": "markdown",
            "id": "1b015e78-e14e-4636-b209-be89c9784899",
            "metadata": {},
            "source": [
                "# Create model"
            ]
        },
        {
            "cell_type": "code",
            "execution_count": null,
            "id": "d89590a6-776a-4483-a404-925b370e5def",
            "metadata": {},
            "outputs": [],
            "source": [
                "model = Model(model_hparams)"
            ]
        },
        {
            "cell_type": "markdown",
            "id": "5462655a-c882-4322-8241-bd4409df0233",
            "metadata": {},
            "source": [
                "#### Eval before training"
            ]
        },
        {
            "cell_type": "code",
            "execution_count": null,
            "id": "955bf1c5-5c7c-4e15-ad5b-4f1b57cf0b6b",
            "metadata": {},
            "outputs": [],
            "source": [
                "print(model.run_eval(val_prep_ds))"
            ]
        },
        {
            "cell_type": "markdown",
            "id": "649b46df-41e6-4651-b0dc-85e2475527f5",
            "metadata": {},
            "source": [
                "## Train model"
            ]
        },
        {
            "cell_type": "code",
            "execution_count": null,
            "id": "c860fbcc-0161-436a-a20e-6a9f3f408a50",
            "metadata": {},
            "outputs": [],
            "source": [
                "with experiment.train():\n",
                "    model.fit(training_prep_ds, val_prep_ds)"
            ]
        },
        {
            "cell_type": "markdown",
            "id": "e678c0a2-0403-4951-9f9a-bc90de739cc0",
            "metadata": {},
            "source": [
                "## Evaluate model"
            ]
        },
        {
            "cell_type": "code",
            "execution_count": null,
            "id": "a8536d4c-7b46-450e-9634-b2a8c8d9154c",
            "metadata": {},
            "outputs": [],
            "source": [
                "with experiment.test():\n",
                "    metrics_test = model.run_eval(test_prep_ds)\n",
                "    experiment.log_metrics(metrics_test)"
            ]
        },
        {
            "cell_type": "markdown",
            "id": "61ea1fdf-ba9a-4b80-a565-a1d9b86f538a",
            "metadata": {},
            "source": [
                "## Clean up experiment"
            ]
        },
        {
            "cell_type": "code",
            "execution_count": null,
            "id": "20f84521-2dba-40a8-840e-4fb1b5747858",
            "metadata": {},
            "outputs": [],
            "source": [
                "experiment.log_parameters(model_hparams)"
            ]
        },
        {
            "cell_type": "code",
            "execution_count": null,
            "id": "cc380fdd-40a6-446f-981b-1f921e8aa57f",
            "metadata": {},
            "outputs": [],
            "source": [
                "experiment.end()"
            ]
        },
        {
            "cell_type": "markdown",
            "id": "d04f2513",
            "metadata": {},
            "source": [
                "# Export model"
            ]
        },
        {
            "cell_type": "code",
            "execution_count": null,
            "id": "d5fe06ab",
            "metadata": {},
            "outputs": [],
            "source": [
                "MODEL_NAME = f'seq_rec-{COUNTRY_CODE}-v0'\n",
                "SAVED_MODEL_PATH = f'models/{MODEL_NAME}'\n",
                "model.export(SAVED_MODEL_PATH)\n",
                "\n",
                "SAVED_EMBEDDINGS_BASE_LOG_DIR = f'logs/{MODEL_NAME}/embeddings/'\n",
                "model.export_embeddings(base_log_dir=SAVED_EMBEDDINGS_BASE_LOG_DIR)"
            ]
        },
        {
            "cell_type": "markdown",
            "id": "d73c6a80",
            "metadata": {},
            "source": [
                "## Test loaded model"
            ]
        },
        {
            "cell_type": "code",
            "execution_count": null,
            "id": "75926835",
            "metadata": {},
            "outputs": [],
            "source": [
                "import tensorflow as tf\n",
                "import numpy as np\n",
                "\n",
                "instance = {\n",
                "    'context_merchants': np.array([[b'<EXAMPLE_MERCHANT_ID>']]),\n",
                "    'context_search_terms': np.array([[b'NULL']]),\n",
                "    'recent_txn_merchants': np.array([[b'NULL']]),\n",
                "    \"context_merchants_time_recency\": np.array([[b'1']]),\n",
                "    \"context_search_terms_time_recency\": np.array([[b'0']]),\n",
                "    \"recent_txn_time_recency\": np.array([[b'0']]),\n",
                "}\n",
                "\n",
                "loaded = tf.saved_model.load(SAVED_MODEL_PATH)\n",
                "serving_fn = loaded.signatures['serving_default']\n",
                "recommendations = serving_fn(**instance)\n",
                "print(f\"Recommendations: {recommendations['merchant_id'][0]}\")\n"
            ]
        },
        {
            "cell_type": "code",
            "execution_count": null,
            "id": "4425ccc0-92fc-4641-80a7-aba92e7d1fa8",
            "metadata": {},
            "outputs": [],
            "source": []
        }
    ],
    "metadata": {
        "kernelspec": {
            "display_name": "Python 3.8.14 ('.venv': poetry)",
            "language": "python",
            "name": "python3"
        },
        "language_info": {
            "codemirror_mode": {
                "name": "ipython",
                "version": 3
            },
            "file_extension": ".py",
            "mimetype": "text/x-python",
            "name": "python",
            "nbconvert_exporter": "python",
            "pygments_lexer": "ipython3",
            "version": "3.8.14"
        },
        "vscode": {
            "interpreter": {
                "hash": "eaeefced7af4788b9b4a203895b09193a6dd449d207d1b1237ec1e0a47ffeed0"
            }
        }
    },
    "nbformat": 4,
    "nbformat_minor": 5
}

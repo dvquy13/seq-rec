{
    "cells": [
        {
            "cell_type": "code",
            "execution_count": null,
            "metadata": {},
            "outputs": [],
            "source": [
                "%reload_ext autoreload\n",
                "%autoreload 2\n",
                "\n",
                "import os\n",
                "import sys\n",
                "\n",
                "sys.path.insert(0, '..')\n",
                "\n",
                "import google.cloud.aiplatform as aip\n",
                "\n",
                "import seq_rec.utils as utils\n",
                "import seq_rec.utils.custom_logging"
            ]
        },
        {
            "cell_type": "code",
            "execution_count": null,
            "metadata": {},
            "outputs": [],
            "source": [
                "HYDRA_CONFIG_PATH = '../seq_rec/conf/'\n",
                "cfg = utils.load_cfg(HYDRA_CONFIG_PATH)"
            ]
        },
        {
            "cell_type": "code",
            "execution_count": null,
            "metadata": {},
            "outputs": [],
            "source": [
                "PROJECT_ID = cfg.env.gcp.project_id\n",
                "MODEL_NAME = 'seq_rec'\n",
                "\n",
                "BUCKET_LOCATION = cfg.env.pipeline.kubeflow.region\n",
                "BUCKET_NAME = cfg.env.pipeline.kubeflow.bucket_name\n",
                "BUCKET_URL = cfg.env.pipeline.kubeflow.bucket_url\n",
                "BUCKET_FOLDER_DIR = cfg.env.pipeline.kubeflow.bucket_dir\n",
                "\n",
                "ENDPOINT_LOCATION = cfg.env.gcp.endpoint.location\n",
                "ENDPOINT_NAME = cfg.env.gcp.endpoint.name\n",
                "MODEL_VERSION = \"0.2.0\"\n",
                "MODEL_VERSION_NODOT = MODEL_VERSION.replace(\".\", \"\")\n",
                "MODEL_NAME_VERSION = f\"{MODEL_NAME}_{MODEL_VERSION_NODOT}\"\n",
                "PATH_TO_MODEL_ARTIFACT_DIRECTORY = f\"{BUCKET_URL}/{BUCKET_FOLDER_DIR}/{MODEL_VERSION}/model\"\n",
                "CONTAINER_IMAGE_URI = cfg.env.gcp.endpoint.container_image_uri\n",
                "ENDPOINT_MACHINE_TYPE = cfg.env.gcp.endpoint.machine_type\n",
                "ENDPOINT_MIN_REPLICA_COUNT = cfg.env.gcp.endpoint.min_replica_count\n",
                "ENDPOINT_MAX_REPLICA_COUNT = cfg.env.gcp.endpoint.max_replica_count"
            ]
        },
        {
            "cell_type": "markdown",
            "metadata": {},
            "source": [
                "# Select endpoint"
            ]
        },
        {
            "cell_type": "markdown",
            "metadata": {},
            "source": [
                "## Create endpoint"
            ]
        },
        {
            "cell_type": "code",
            "execution_count": null,
            "metadata": {},
            "outputs": [],
            "source": [
                "aip.init(project=PROJECT_ID, location=ENDPOINT_LOCATION)"
            ]
        },
        {
            "cell_type": "code",
            "execution_count": null,
            "metadata": {},
            "outputs": [],
            "source": [
                "endpoint = aip.Endpoint.create(\n",
                "    display_name=ENDPOINT_NAME,\n",
                "    project=PROJECT_ID,\n",
                "    location=ENDPOINT_LOCATION,\n",
                ")"
            ]
        },
        {
            "cell_type": "code",
            "execution_count": null,
            "metadata": {},
            "outputs": [],
            "source": [
                "endpoint_id = endpoint.name\n",
                "print(endpoint_id)"
            ]
        },
        {
            "cell_type": "markdown",
            "metadata": {},
            "source": [
                "## Upload model to Vertex AI Models"
            ]
        },
        {
            "cell_type": "code",
            "execution_count": null,
            "metadata": {},
            "outputs": [],
            "source": [
                "# Ref: https://github.com/GoogleCloudPlatform/vertex-ai-samples/blob/main/notebooks/official/explainable_ai/sdk_custom_tabular_regression_online_explain.ipynb\n",
                "\n",
                "model = aip.Model.upload(\n",
                "    display_name=MODEL_NAME_VERSION,\n",
                "    artifact_uri=PATH_TO_MODEL_ARTIFACT_DIRECTORY,\n",
                "    serving_container_image_uri=CONTAINER_IMAGE_URI,\n",
                "    sync=False\n",
                ")\n",
                "\n",
                "model.wait()"
            ]
        },
        {
            "cell_type": "code",
            "execution_count": null,
            "metadata": {},
            "outputs": [],
            "source": [
                "model_id = model.name\n",
                "print(model_id)"
            ]
        },
        {
            "cell_type": "markdown",
            "metadata": {},
            "source": [
                "## Deploy the model to endpoint"
            ]
        },
        {
            "cell_type": "code",
            "execution_count": null,
            "metadata": {},
            "outputs": [],
            "source": [
                "%%time\n",
                "TRAFFIC_SPLIT = {\"0\": 100}\n",
                "DEPLOY_GPU = False\n",
                "if DEPLOY_GPU:\n",
                "    ACCELERATOR_COUNT = 1\n",
                "else:\n",
                "    ACCELERATOR_COUNT = 0\n",
                "\n",
                "endpoint = model.deploy(\n",
                "    endpoint=endpoint,\n",
                "    deployed_model_display_name=MODEL_NAME_VERSION,\n",
                "    traffic_split=TRAFFIC_SPLIT,\n",
                "    machine_type=ENDPOINT_MACHINE_TYPE,\n",
                "    accelerator_type=DEPLOY_GPU,\n",
                "    accelerator_count=ACCELERATOR_COUNT,\n",
                "    min_replica_count=ENDPOINT_MIN_REPLICA_COUNT,\n",
                "    max_replica_count=ENDPOINT_MAX_REPLICA_COUNT,\n",
                ")\n"
            ]
        },
        {
            "cell_type": "markdown",
            "metadata": {},
            "source": [
                "## Test the deployed model"
            ]
        },
        {
            "cell_type": "code",
            "execution_count": null,
            "metadata": {},
            "outputs": [],
            "source": [
                "instances = [\n",
                "    {\n",
                "        \"context_merchants\": [\"<EXAMPLE_MERCHANT_ID>\"],\n",
                "        \"context_search_terms\": [\"<EXAMPLE_SEARCH_TERM>\"],\n",
                "        \"context_merchants_time_recency\": [\"1\"],\n",
                "        \"context_search_terms_time_recency\": [\"1\"],\n",
                "        \"recent_txn_merchants\": [\"<EXAMPLE_MERCHANT_ID>\"],\n",
                "        \"recent_txn_time_recency\": [\"1\"]\n",
                "    }\n",
                "]\n",
                "prediction = endpoint.predict(instances=instances)\n",
                "prediction"
            ]
        },
        {
            "cell_type": "markdown",
            "metadata": {},
            "source": [
                "# Deploy new model to existing endpoint"
            ]
        },
        {
            "cell_type": "code",
            "execution_count": null,
            "metadata": {},
            "outputs": [],
            "source": [
                "endpoint = [endpoint for endpoint in aip.Endpoint.list() if endpoint.display_name == 'seq_rec'][0]\n",
                "print(endpoint)"
            ]
        },
        {
            "cell_type": "code",
            "execution_count": null,
            "metadata": {},
            "outputs": [],
            "source": [
                "MODEL_NAME_VERSION = f\"{MODEL_NAME_VERSION}_new\"\n",
                "\n",
                "model = aip.Model.upload(\n",
                "    display_name=MODEL_NAME_VERSION,\n",
                "    artifact_uri=PATH_TO_MODEL_ARTIFACT_DIRECTORY,\n",
                "    serving_container_image_uri=CONTAINER_IMAGE_URI,\n",
                "    sync=False\n",
                ")\n",
                "\n",
                "model.wait()"
            ]
        },
        {
            "cell_type": "code",
            "execution_count": null,
            "metadata": {},
            "outputs": [],
            "source": [
                "%%time\n",
                "TRAFFIC_SPLIT = {\"0\": 100}\n",
                "DEPLOY_GPU = False\n",
                "if DEPLOY_GPU:\n",
                "    ACCELERATOR_COUNT = 1\n",
                "else:\n",
                "    ACCELERATOR_COUNT = 0\n",
                "\n",
                "endpoint = model.deploy(\n",
                "    endpoint=endpoint,\n",
                "    deployed_model_display_name=MODEL_NAME_VERSION,\n",
                "    traffic_split=TRAFFIC_SPLIT,\n",
                "    machine_type=ENDPOINT_MACHINE_TYPE,\n",
                "    accelerator_type=DEPLOY_GPU,\n",
                "    accelerator_count=ACCELERATOR_COUNT,\n",
                "    min_replica_count=ENDPOINT_MIN_REPLICA_COUNT,\n",
                "    max_replica_count=ENDPOINT_MAX_REPLICA_COUNT,\n",
                ")\n"
            ]
        },
        {
            "cell_type": "markdown",
            "metadata": {},
            "source": [
                "# Undeploy model"
            ]
        },
        {
            "cell_type": "code",
            "execution_count": null,
            "metadata": {},
            "outputs": [],
            "source": [
                "endpoint = [endpoint for endpoint in aip.Endpoint.list() if endpoint.display_name == ENDPOINT_NAME][0]"
            ]
        },
        {
            "cell_type": "code",
            "execution_count": null,
            "metadata": {},
            "outputs": [],
            "source": [
                "endpoint.list_models()"
            ]
        },
        {
            "cell_type": "code",
            "execution_count": null,
            "metadata": {},
            "outputs": [],
            "source": [
                "model = endpoint.list_models()[0]"
            ]
        },
        {
            "cell_type": "code",
            "execution_count": null,
            "metadata": {},
            "outputs": [],
            "source": [
                "model.model"
            ]
        },
        {
            "cell_type": "code",
            "execution_count": null,
            "metadata": {},
            "outputs": [],
            "source": [
                "endpoint.traffic_split"
            ]
        },
        {
            "cell_type": "code",
            "execution_count": null,
            "metadata": {},
            "outputs": [],
            "source": [
                "deployed_model_ids_in_use = set()\n",
                "for deployed_model_id, split in endpoint.traffic_split.items():\n",
                "    if split > 0:\n",
                "        deployed_model_ids_in_use.add(deployed_model_id)\n",
                "for deployed_model in endpoint.list_models():\n",
                "    if deployed_model.id not in deployed_model_ids_in_use:\n",
                "        print(f\"Undeploying DeployedModel {deployed_model.id} from endpoint {endpoint.name}...\")\n",
                "        endpoint.undeploy(deployed_model.id)\n",
                "        model_id = deployed_model.model\n",
                "        model_to_delete = aip.Model(model_id)\n",
                "        print(f\"Deleting Model {model_id}...\")\n",
                "        model_to_delete.delete()"
            ]
        },
        {
            "cell_type": "code",
            "execution_count": null,
            "metadata": {},
            "outputs": [],
            "source": []
        }
    ],
    "metadata": {
        "kernelspec": {
            "display_name": "Python 3.8.14 ('.venv': poetry)",
            "language": "python",
            "name": "python3"
        },
        "language_info": {
            "codemirror_mode": {
                "name": "ipython",
                "version": 3
            },
            "file_extension": ".py",
            "mimetype": "text/x-python",
            "name": "python",
            "nbconvert_exporter": "python",
            "pygments_lexer": "ipython3",
            "version": "3.8.14"
        },
        "vscode": {
            "interpreter": {
                "hash": "eaeefced7af4788b9b4a203895b09193a6dd449d207d1b1237ec1e0a47ffeed0"
            }
        }
    },
    "nbformat": 4,
    "nbformat_minor": 4
}
